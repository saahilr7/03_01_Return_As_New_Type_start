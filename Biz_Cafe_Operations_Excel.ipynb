{
  "nbformat": 4,
  "nbformat_minor": 0,
  "metadata": {
    "colab": {
      "name": "Biz Cafe Operations Excel.ipynb",
      "provenance": [],
      "collapsed_sections": [],
      "authorship_tag": "ABX9TyN+3jCi/9/AmP0xfM6VFBgu",
      "include_colab_link": true
    },
    "kernelspec": {
      "name": "python3",
      "display_name": "Python 3"
    }
  },
  "cells": [
    {
      "cell_type": "markdown",
      "metadata": {
        "id": "view-in-github",
        "colab_type": "text"
      },
      "source": [
        "<a href=\"https://colab.research.google.com/github/saahilr7/03_01_Return_As_New_Type_start/blob/master/Biz_Cafe_Operations_Excel.ipynb\" target=\"_parent\"><img src=\"https://colab.research.google.com/assets/colab-badge.svg\" alt=\"Open In Colab\"/></a>"
      ]
    },
    {
      "cell_type": "code",
      "metadata": {
        "id": "vsHPKdyAqL3S"
      },
      "source": [
        "import openpyxl"
      ],
      "execution_count": 1,
      "outputs": []
    },
    {
      "cell_type": "code",
      "metadata": {
        "id": "28Ly_IBgqgLh"
      },
      "source": [
        "wb = openpyxl.load_workbook('a.xlsx', keep_vba=True, data_only=True)"
      ],
      "execution_count": 2,
      "outputs": []
    },
    {
      "cell_type": "code",
      "metadata": {
        "colab": {
          "base_uri": "https://localhost:8080/"
        },
        "id": "uVYabEMfqpXD",
        "outputId": "5d4fed9d-4609-4aa0-f565-65bb4d4b02c5"
      },
      "source": [
        "wb.sheetnames"
      ],
      "execution_count": 3,
      "outputs": [
        {
          "output_type": "execute_result",
          "data": {
            "text/plain": [
              "['Sheet1']"
            ]
          },
          "metadata": {
            "tags": []
          },
          "execution_count": 3
        }
      ]
    },
    {
      "cell_type": "code",
      "metadata": {
        "id": "0N8t-mSgqsaq"
      },
      "source": [
        "sh = wb['Sheet1']"
      ],
      "execution_count": 4,
      "outputs": []
    },
    {
      "cell_type": "code",
      "metadata": {
        "colab": {
          "base_uri": "https://localhost:8080/",
          "height": 35
        },
        "id": "Gn3m81K1qyZT",
        "outputId": "9114f9bd-8b33-4e80-a801-21077a97f5df"
      },
      "source": [
        "sh['A2'].value"
      ],
      "execution_count": 5,
      "outputs": [
        {
          "output_type": "execute_result",
          "data": {
            "application/vnd.google.colaboratory.intrinsic+json": {
              "type": "string"
            },
            "text/plain": [
              "'Matthew Albury'"
            ]
          },
          "metadata": {
            "tags": []
          },
          "execution_count": 5
        }
      ]
    },
    {
      "cell_type": "code",
      "metadata": {
        "colab": {
          "base_uri": "https://localhost:8080/"
        },
        "id": "ulLrpDf2q57C",
        "outputId": "b1a0d148-7c55-467b-fea7-92154b55d69a"
      },
      "source": [
        "sh['C4'].value"
      ],
      "execution_count": 6,
      "outputs": [
        {
          "output_type": "execute_result",
          "data": {
            "text/plain": [
              "2316"
            ]
          },
          "metadata": {
            "tags": []
          },
          "execution_count": 6
        }
      ]
    },
    {
      "cell_type": "code",
      "metadata": {
        "id": "0f0hzbJHrAJy"
      },
      "source": [
        "small_cup_sales = sh['B4'].value\r\n",
        "medium_cup_sales = sh['B5'].value\r\n",
        "large_cup_sales = sh['B6'].value\r\n",
        "\r\n",
        "small_cup_growth = sh['B16'].value\r\n",
        "medium_cup_growth= sh['B17'].value\r\n",
        "large_cup_growth = sh['B18'].value\r\n",
        "\r\n",
        "small_cup_price = sh['B19'].value\r\n",
        "medium_cup_price = sh['B20'].value\r\n",
        "large_cup_price = sh['B21'].value\r\n",
        "\r\n",
        "cogs_small = sh['B22'].value\r\n",
        "cogs_medium = sh['B23'].value\r\n",
        "cogs_large = sh['B24'].value\r\n",
        "\r\n",
        "coffee_cost_per_pound = sh['B25'].value\r\n",
        "management = sh['B26'].value\r\n",
        "servers = sh['B27'].value\r\n",
        "management_pay = sh['B28'].value\r\n",
        "server_pay = sh['B29'].value\r\n",
        "payroll_tax = sh['B30'].value\r\n",
        "rent = sh['B31'].value\r\n",
        "utilities = sh['B32'].value\r\n",
        "online_adv = sh['B33'].value\r\n",
        "radio = sh['B34'].value"
      ],
      "execution_count": 7,
      "outputs": []
    },
    {
      "cell_type": "code",
      "metadata": {
        "colab": {
          "base_uri": "https://localhost:8080/"
        },
        "id": "Ti3X0TFCtZpC",
        "outputId": "1251b7f4-3c49-4859-8abb-720ecb34210c"
      },
      "source": [
        "#1. Cup Sales - week 1 - CALCULATED\r\n",
        "\r\n",
        "wk1_sales_small = round(small_cup_sales + small_cup_sales * small_cup_growth)\r\n",
        "wk1_sales_medium = round(medium_cup_sales + medium_cup_sales * medium_cup_growth)\r\n",
        "wk1_sales_large = round(large_cup_sales + large_cup_sales * large_cup_growth)\r\n",
        "\r\n",
        "print(wk1_sales_small,wk1_sales_medium,wk1_sales_large)"
      ],
      "execution_count": 8,
      "outputs": [
        {
          "output_type": "stream",
          "text": [
            "2316 2126 939\n"
          ],
          "name": "stdout"
        }
      ]
    },
    {
      "cell_type": "code",
      "metadata": {
        "colab": {
          "base_uri": "https://localhost:8080/"
        },
        "id": "lCKg_Q9Bu8sC",
        "outputId": "fe672a0f-ea08-47b0-b0c0-d7a4dedf8ac4"
      },
      "source": [
        "# Cup Sales STUDENT\r\n",
        "s_wk1_sales_small = round(sh['C4'].value)\r\n",
        "s_wk1_sales_medium = round(sh['C5'].value)\r\n",
        "s_wk1_sales_large = round(sh['C6'].value)\r\n",
        "\r\n",
        "print(s_wk1_sales_small,s_wk1_sales_medium,s_wk1_sales_large)"
      ],
      "execution_count": 9,
      "outputs": [
        {
          "output_type": "stream",
          "text": [
            "2316 2126 939\n"
          ],
          "name": "stdout"
        }
      ]
    },
    {
      "cell_type": "code",
      "metadata": {
        "colab": {
          "base_uri": "https://localhost:8080/"
        },
        "id": "HONQUCj3vxqD",
        "outputId": "0ba3bbdb-9dc8-4c8a-e7b5-90a84e597320"
      },
      "source": [
        "#2. Total Cup Sales CALCULATED\r\n",
        "\r\n",
        "total_cup_sales_small = round(sh['C4'].value + sh['D4'].value + sh['E4'].value + sh['F4'].value + sh['G4'].value + sh['H4'].value + sh['I4'].value + sh['J4'].value + sh['K4'].value + sh['L4'].value + sh['M4'].value + sh['N4'].value + sh['O4'].value + sh['P4'].value + sh['Q4'].value + sh['R4'].value)\r\n",
        "total_cup_sales_medium = round(sh['C5'].value + sh['D5'].value + sh['E5'].value + sh['F5'].value + sh['G5'].value + sh['H5'].value + sh['I5'].value + sh['J5'].value + sh['K5'].value + sh['L5'].value + sh['M5'].value + sh['N5'].value + sh['O5'].value + sh['P5'].value + sh['Q5'].value + sh['R5'].value)\r\n",
        "total_cup_sales_large = round(sh['C6'].value + sh['D6'].value + sh['E6'].value + sh['F6'].value + sh['G6'].value + sh['H6'].value + sh['I6'].value + sh['J6'].value + sh['K6'].value + sh['L6'].value + sh['M6'].value + sh['N6'].value + sh['O6'].value + sh['P6'].value + sh['Q6'].value + sh['R6'].value)\r\n",
        "\r\n",
        "print(total_cup_sales_small,total_cup_sales_medium,total_cup_sales_large)"
      ],
      "execution_count": 10,
      "outputs": [
        {
          "output_type": "stream",
          "text": [
            "38524 35372 15627\n"
          ],
          "name": "stdout"
        }
      ]
    },
    {
      "cell_type": "code",
      "metadata": {
        "id": "BKaLsfdKxPY_",
        "colab": {
          "base_uri": "https://localhost:8080/"
        },
        "outputId": "517f4106-3a0d-4167-e818-dea28cc9d971"
      },
      "source": [
        "# Total Cup Sales STUDENT\r\n",
        "s_total_cup_sales_small = sh['S4'].value\r\n",
        "s_total_cup_sales_medium = sh['S5'].value\r\n",
        "s_total_cup_sales_large = sh['S6'].value\r\n",
        "\r\n",
        "print(s_total_cup_sales_small,s_total_cup_sales_medium,s_total_cup_sales_large)"
      ],
      "execution_count": 11,
      "outputs": [
        {
          "output_type": "stream",
          "text": [
            "38524 35372 15627\n"
          ],
          "name": "stdout"
        }
      ]
    },
    {
      "cell_type": "code",
      "metadata": {
        "colab": {
          "base_uri": "https://localhost:8080/"
        },
        "id": "-Mcgf4SCJdDw",
        "outputId": "c00557a0-12dd-4dac-dff9-0747b0b8a07b"
      },
      "source": [
        "#3. Revenue CALCULATED\r\n",
        "\r\n",
        "wk1_revenue = small_cup_sales*small_cup_price + medium_cup_sales*medium_cup_price + large_cup_sales*large_cup_price\r\n",
        "\r\n",
        "print(wk1_revenue)"
      ],
      "execution_count": 12,
      "outputs": [
        {
          "output_type": "stream",
          "text": [
            "16618.85\n"
          ],
          "name": "stdout"
        }
      ]
    },
    {
      "cell_type": "code",
      "metadata": {
        "colab": {
          "base_uri": "https://localhost:8080/"
        },
        "id": "AKgFnETSK3qM",
        "outputId": "004da9f8-e5bd-417a-dffd-39077c07c45e"
      },
      "source": [
        "#3. Revenue STUDENT\r\n",
        "\r\n",
        "s_wk1_revenue = sh['B7'].value\r\n",
        "\r\n",
        "print(s_wk1_revenue)"
      ],
      "execution_count": 13,
      "outputs": [
        {
          "output_type": "stream",
          "text": [
            "16618.85\n"
          ],
          "name": "stdout"
        }
      ]
    },
    {
      "cell_type": "code",
      "metadata": {
        "colab": {
          "base_uri": "https://localhost:8080/"
        },
        "id": "gfQcuMbVLRxO",
        "outputId": "7eb4b07e-0278-4f68-d585-2cd3ea31aa50"
      },
      "source": [
        "#4. COGS CALCULATED\r\n",
        "\r\n",
        "wk1_cogs = round(small_cup_sales*cogs_small + medium_cup_sales*cogs_medium + large_cup_sales*cogs_large)\r\n",
        "\r\n",
        "print(wk1_cogs)"
      ],
      "execution_count": 14,
      "outputs": [
        {
          "output_type": "stream",
          "text": [
            "1514\n"
          ],
          "name": "stdout"
        }
      ]
    },
    {
      "cell_type": "code",
      "metadata": {
        "colab": {
          "base_uri": "https://localhost:8080/"
        },
        "id": "OLGmlbx_Nyrm",
        "outputId": "328ac105-987a-4eb8-ca4c-17bc7311d7b2"
      },
      "source": [
        "#5. Gross Profit CALCULATED\r\n",
        "\r\n",
        "wk1_gross_profit = round(wk1_revenue-wk1_cogs)\r\n",
        "\r\n",
        "print(wk1_gross_profit)"
      ],
      "execution_count": 15,
      "outputs": [
        {
          "output_type": "stream",
          "text": [
            "15105\n"
          ],
          "name": "stdout"
        }
      ]
    },
    {
      "cell_type": "code",
      "metadata": {
        "colab": {
          "base_uri": "https://localhost:8080/"
        },
        "id": "gRS389rmOYEd",
        "outputId": "a2f8b1e7-43ae-4b32-c624-3a9e8c4953b3"
      },
      "source": [
        "#5. Gross Profit STUDENT\r\n",
        "\r\n",
        "s_wk1_gross_profit = round(sh['B9'].value)\r\n",
        "\r\n",
        "print(s_wk1_gross_profit)"
      ],
      "execution_count": 16,
      "outputs": [
        {
          "output_type": "stream",
          "text": [
            "15105\n"
          ],
          "name": "stdout"
        }
      ]
    },
    {
      "cell_type": "code",
      "metadata": {
        "colab": {
          "base_uri": "https://localhost:8080/"
        },
        "id": "6i4evdH4OxZG",
        "outputId": "13265cb1-45cf-4326-fe41-7ae0cc070a1e"
      },
      "source": [
        "#6. Salary Expense CALCULATED\r\n",
        "\r\n",
        "wk1_salary = round(management*management_pay + servers*server_pay)\r\n",
        "\r\n",
        "print(wk1_salary)"
      ],
      "execution_count": 17,
      "outputs": [
        {
          "output_type": "stream",
          "text": [
            "7642\n"
          ],
          "name": "stdout"
        }
      ]
    },
    {
      "cell_type": "code",
      "metadata": {
        "colab": {
          "base_uri": "https://localhost:8080/"
        },
        "id": "3eorgfxJQBgr",
        "outputId": "d4bd9825-ba6d-4992-d6a9-d060255983bc"
      },
      "source": [
        "#7. Payroll CALCULATED\r\n",
        "\r\n",
        "wk1_payroll_taxes = round(wk1_salary*payroll_tax)\r\n",
        "\r\n",
        "print(wk1_payroll_taxes)"
      ],
      "execution_count": 18,
      "outputs": [
        {
          "output_type": "stream",
          "text": [
            "573\n"
          ],
          "name": "stdout"
        }
      ]
    },
    {
      "cell_type": "code",
      "metadata": {
        "colab": {
          "base_uri": "https://localhost:8080/"
        },
        "id": "L17mXiGeRnQl",
        "outputId": "17155307-3659-435f-ff56-acdf23a5a297"
      },
      "source": [
        "#8. Rent/Utilities Expense CALCULATED\r\n",
        "\r\n",
        "wk1_rent_uti = round(rent+utilities)\r\n",
        "\r\n",
        "print(wk1_rent_uti)"
      ],
      "execution_count": 19,
      "outputs": [
        {
          "output_type": "stream",
          "text": [
            "665\n"
          ],
          "name": "stdout"
        }
      ]
    },
    {
      "cell_type": "code",
      "metadata": {
        "colab": {
          "base_uri": "https://localhost:8080/"
        },
        "id": "EdhnDsG-R5Ye",
        "outputId": "ad97ec1b-e24e-4e78-dbee-a389720a90ad"
      },
      "source": [
        "#9. ADV/Promo Expense CALCULATED\r\n",
        "\r\n",
        "wk1_adv_radio = round(online_adv+radio)\r\n",
        "\r\n",
        "print(wk1_adv_radio)"
      ],
      "execution_count": 20,
      "outputs": [
        {
          "output_type": "stream",
          "text": [
            "1400\n"
          ],
          "name": "stdout"
        }
      ]
    },
    {
      "cell_type": "code",
      "metadata": {
        "colab": {
          "base_uri": "https://localhost:8080/"
        },
        "id": "wzuOFiTYSWQ1",
        "outputId": "b96c6cf8-b028-47bf-ff42-9fa2d6b6fc11"
      },
      "source": [
        "#10. Net Profit CALCULATED\r\n",
        "\r\n",
        "wk1_net_profit = round(wk1_gross_profit-wk1_salary-wk1_payroll_taxes-wk1_rent_uti-wk1_adv_radio)\r\n",
        "\r\n",
        "print(wk1_net_profit)"
      ],
      "execution_count": 21,
      "outputs": [
        {
          "output_type": "stream",
          "text": [
            "4825\n"
          ],
          "name": "stdout"
        }
      ]
    },
    {
      "cell_type": "code",
      "metadata": {
        "colab": {
          "base_uri": "https://localhost:8080/"
        },
        "id": "vR9op0EJS81C",
        "outputId": "12f24e56-974c-4c63-993d-f0d371436734"
      },
      "source": [
        "#10. Net Profit STUDENT\r\n",
        "\r\n",
        "s_wk1_net_profit = round(sh['B14'].value)\r\n",
        "\r\n",
        "print(s_wk1_net_profit)"
      ],
      "execution_count": 22,
      "outputs": [
        {
          "output_type": "stream",
          "text": [
            "4824\n"
          ],
          "name": "stdout"
        }
      ]
    },
    {
      "cell_type": "code",
      "metadata": {
        "id": "kUjhqjZ-TJ_9"
      },
      "source": [
        "# CONDITIONS CHECK"
      ],
      "execution_count": 23,
      "outputs": []
    },
    {
      "cell_type": "code",
      "metadata": {
        "id": "mvw8u2QwcOwj"
      },
      "source": [
        "#Initialize points for student\r\n",
        "\r\n",
        "points = 0"
      ],
      "execution_count": 24,
      "outputs": []
    },
    {
      "cell_type": "code",
      "metadata": {
        "id": "VV3RsCKXamdl"
      },
      "source": [
        "#I) DATA INSERTION\r\n",
        "#Check whether data is inserted or not.\r\n",
        "\r\n",
        "# if(sh['B4'].value == None):\r\n",
        "#   points = 0\r\n",
        "# else :\r\n",
        "#   points = 2\r\n",
        "\r\n"
      ],
      "execution_count": 25,
      "outputs": []
    },
    {
      "cell_type": "code",
      "metadata": {
        "colab": {
          "base_uri": "https://localhost:8080/"
        },
        "id": "bpbUqB4-b8-M",
        "outputId": "f494b5b2-ee47-432c-e8d4-18d4bf38c0ef"
      },
      "source": [
        "#II) CUP SALES\r\n",
        "# •\tDetermine the new cups sales for weeks 1-16.\r\n",
        "# o\t3 points if they used the Random function and applied a correct formula.\r\n",
        "# o\t2 points if they applied the correct formula but didn’t use the Random function or used the Random function but didn’t apply correct formula for growth.\r\n",
        "# o\t1 point if they applied a formula with a minor error where the inaccuracies are not readily apparent. \r\n",
        "# o\t0 points if they didn’t use a formula or formula applied was not close to correct and the student should have known the result was far from correct.\r\n",
        "\r\n",
        "\r\n",
        "wb2 = openpyxl.load_workbook('a.xlsx', keep_vba=True, data_only=False)\r\n",
        "sh2 = wb2['Sheet1']\r\n",
        "\r\n",
        "#print(sh2['C4'].value)\r\n",
        "\r\n",
        "wk1_sales_list = [sh2['C4'].value,sh2['C5'].value,sh2['C6'].value]\r\n",
        "\r\n",
        "print(wk1_sales_list)\r\n",
        "\r\n",
        "\r\n",
        "\r\n",
        "\r\n",
        "\r\n",
        "#3 points if they used the Random function and applied a correct formula.\r\n",
        "# if any(\"ROUNDUP\" in s for s in wk1_sales_list):\r\n",
        "#   if (((sh2['C4'].data_type == 'f') and (wk1_sales_small == s_wk1_sales_small)) and ((sh2['C5'].data_type == 'f') and (wk1_sales_medium == s_wk1_sales_medium)) \r\n",
        "#                                                                                and ((sh2['C6'].data_type == 'f') and (wk1_sales_large == s_wk1_sales_large))):   #if cell contains a formula\r\n",
        "#       points = points + 3\r\n",
        "\r\n",
        "# else:\r\n",
        "#   if (((sh2['C4'].data_type == 'f') and (wk1_sales_small == s_wk1_sales_small)) and ((sh2['C5'].data_type == 'f') and (wk1_sales_medium == s_wk1_sales_medium)) \r\n",
        "#                                                                                and ((sh2['C6'].data_type == 'f') and (wk1_sales_large == s_wk1_sales_large))):   #if cell contains a formula\r\n",
        "#       points = points + 2\r\n",
        "\r\n",
        "# if ((sh2['C4'].data_type != 'f') or (sh2['C5'].data_type != 'f') or (sh2['C6'].data_type != 'f')):   #if cell contains a NO formula\r\n",
        "#       points = points + 0\r\n",
        "\r\n",
        "# print(points)\r\n",
        "\r\n",
        "\r\n",
        "\r\n",
        "  "
      ],
      "execution_count": 26,
      "outputs": [
        {
          "output_type": "stream",
          "text": [
            "['=ROUNDUP(B4+B4*$B$16,0)', '=ROUNDUP(B5+B5*$B$17,0)', '=ROUNDUP(B6+B6*$B$18,0)']\n"
          ],
          "name": "stdout"
        }
      ]
    },
    {
      "cell_type": "code",
      "metadata": {
        "id": "K31bREyqeJzr"
      },
      "source": [
        ""
      ],
      "execution_count": 26,
      "outputs": []
    },
    {
      "cell_type": "code",
      "metadata": {
        "id": "BEAR595EeZPj"
      },
      "source": [
        ""
      ],
      "execution_count": 26,
      "outputs": []
    }
  ]
}